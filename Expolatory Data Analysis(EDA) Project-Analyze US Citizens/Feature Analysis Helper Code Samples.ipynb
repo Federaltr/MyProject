{
 "cells": [
  {
   "cell_type": "markdown",
   "id": "6f4d0a46",
   "metadata": {},
   "source": [
    "# DA  DVwPy-EDA Project (Analyze US Citizens)-Student-V01"
   ]
  },
  {
   "cell_type": "markdown",
   "id": "1ce12ece",
   "metadata": {},
   "source": [
    "# Dataset Info"
   ]
  },
  {
   "cell_type": "code",
   "execution_count": null,
   "id": "db655701",
   "metadata": {},
   "outputs": [],
   "source": [
    "df_origin = pd.read_csv('adult_eda.csv')\n",
    "df = df_origin.copy()\n",
    "df"
   ]
  },
  {
   "cell_type": "code",
   "execution_count": null,
   "id": "9a30b7ef",
   "metadata": {},
   "outputs": [],
   "source": [
    "df.head()"
   ]
  },
  {
   "cell_type": "code",
   "execution_count": null,
   "id": "b8112f3f",
   "metadata": {},
   "outputs": [],
   "source": [
    "df.shape"
   ]
  },
  {
   "cell_type": "code",
   "execution_count": null,
   "id": "89589b25",
   "metadata": {},
   "outputs": [],
   "source": [
    "df.info()"
   ]
  },
  {
   "cell_type": "code",
   "execution_count": null,
   "id": "798ef98d",
   "metadata": {},
   "outputs": [],
   "source": [
    "df.duplicated().value_counts()"
   ]
  },
  {
   "cell_type": "code",
   "execution_count": null,
   "id": "ddbbef7e",
   "metadata": {},
   "outputs": [],
   "source": [
    "df.drop_duplicates(inplace=True)"
   ]
  },
  {
   "cell_type": "code",
   "execution_count": null,
   "id": "eedb79ab",
   "metadata": {},
   "outputs": [],
   "source": [
    "df.isna().sum()"
   ]
  },
  {
   "cell_type": "code",
   "execution_count": null,
   "id": "c59d9c57",
   "metadata": {},
   "outputs": [],
   "source": [
    "df.isna().sum()/len(df)*100"
   ]
  },
  {
   "cell_type": "code",
   "execution_count": null,
   "id": "f9e01221",
   "metadata": {},
   "outputs": [],
   "source": [
    "sns.heatmap(df.isnull(), yticklabels=False, cbar=False, cmap='viridis');"
   ]
  },
  {
   "cell_type": "code",
   "execution_count": null,
   "id": "1f5429be",
   "metadata": {},
   "outputs": [],
   "source": [
    "df.describe().T"
   ]
  },
  {
   "cell_type": "code",
   "execution_count": null,
   "id": "2ae491c3",
   "metadata": {},
   "outputs": [],
   "source": [
    "df.describe(include=object).T"
   ]
  },
  {
   "cell_type": "code",
   "execution_count": null,
   "id": "ddabcd3a",
   "metadata": {},
   "outputs": [],
   "source": [
    "# all column Name\n",
    "df.columns"
   ]
  },
  {
   "cell_type": "code",
   "execution_count": null,
   "id": "b303be6a",
   "metadata": {},
   "outputs": [],
   "source": [
    "# column Name 1\n",
    "df.describe().columns"
   ]
  },
  {
   "cell_type": "code",
   "execution_count": null,
   "id": "30923595",
   "metadata": {},
   "outputs": [],
   "source": [
    "# column Name 1\n",
    "df.describe(include=object).columns"
   ]
  },
  {
   "cell_type": "code",
   "execution_count": null,
   "id": "e7f619a9",
   "metadata": {},
   "outputs": [],
   "source": [
    "# Select Numeric Columns as DF\n",
    "df.select_dtypes(include=np.number)"
   ]
  },
  {
   "cell_type": "code",
   "execution_count": null,
   "id": "3ab666e4",
   "metadata": {},
   "outputs": [],
   "source": [
    "# Select Numeric Columns as DF\n",
    "df.select_dtypes(include=object)"
   ]
  },
  {
   "cell_type": "code",
   "execution_count": null,
   "id": "8ecdfd09",
   "metadata": {},
   "outputs": [],
   "source": [
    "# Select Categoric Columns as DF\n",
    "df.select_dtypes(exclude=object)"
   ]
  },
  {
   "cell_type": "code",
   "execution_count": null,
   "id": "ebcdf37d",
   "metadata": {},
   "outputs": [],
   "source": [
    "# column Name 2\n",
    "df.select_dtypes(include=object).columns"
   ]
  },
  {
   "cell_type": "code",
   "execution_count": null,
   "id": "0eb9d06f",
   "metadata": {},
   "outputs": [],
   "source": [
    "# column Name 3\n",
    "df.columns[df.dtypes==object]"
   ]
  },
  {
   "cell_type": "code",
   "execution_count": null,
   "id": "8d38272c",
   "metadata": {},
   "outputs": [],
   "source": [
    "for col in object_col:\n",
    "    print('Column Name: '+col)\n",
    "    print(\"--\"*8)\n",
    "    print(df[col].value_counts(dropna=False))\n",
    "    print(\"//\"*20)"
   ]
  },
  {
   "cell_type": "code",
   "execution_count": null,
   "id": "9d5973f9",
   "metadata": {},
   "outputs": [],
   "source": [
    "df[ df == '?' ].any()"
   ]
  },
  {
   "cell_type": "code",
   "execution_count": null,
   "id": "3fc95cdf",
   "metadata": {},
   "outputs": [],
   "source": [
    "df[ df == '?' ].count()"
   ]
  },
  {
   "cell_type": "code",
   "execution_count": null,
   "id": "37cca9ec",
   "metadata": {},
   "outputs": [],
   "source": [
    "(df.astype(str) == '?').any()"
   ]
  },
  {
   "cell_type": "markdown",
   "id": "90893e55",
   "metadata": {},
   "source": [
    "# Target Feature Analysis"
   ]
  },
  {
   "cell_type": "code",
   "execution_count": null,
   "id": "d62eae4e",
   "metadata": {},
   "outputs": [],
   "source": [
    "df.head()"
   ]
  },
  {
   "cell_type": "code",
   "execution_count": null,
   "id": "2ebe4cb0",
   "metadata": {},
   "outputs": [],
   "source": [
    "df_salary_count = df['salary'].value_counts()\n",
    "df_salary_count"
   ]
  },
  {
   "cell_type": "markdown",
   "id": "8265fdbb",
   "metadata": {},
   "source": [
    "## countplot - barplot"
   ]
  },
  {
   "cell_type": "code",
   "execution_count": null,
   "id": "8af644bd",
   "metadata": {},
   "outputs": [],
   "source": [
    "fig, ax = plt.subplots(figsize=(10,8))\n",
    "\n",
    "sns.countplot(x='salary', data=df, ax=ax)\n",
    "\n",
    "# annotate 1\n",
    "for i in ax.containers: \n",
    "    ax.bar_label(i, fontsize=14)\n",
    "    \n",
    "# setting label sizes after creation\n",
    "ax.xaxis.label.set_size(20)\n",
    "ax.yaxis.label.set_size(20)\n",
    "ax.xaxis.set_tick_params(labelsize=15)\n",
    "ax.yaxis.set_tick_params(labelsize=15)"
   ]
  },
  {
   "cell_type": "code",
   "execution_count": null,
   "id": "ff4c14ff",
   "metadata": {},
   "outputs": [],
   "source": [
    "fig, ax = plt.subplots(figsize=(10,8))\n",
    "\n",
    "sns.barplot(x=df_salary_count.index, y=df_salary_count.values, ax=ax)\n",
    "\n",
    "# annotate 2\n",
    "for p in ax.patches:\n",
    "    plt.annotate(format(p.get_height()),\n",
    "                 (p.get_x() + p.get_width() / 2, p.get_height()), \n",
    "                 ha='center', va='center', fontsize=14,\n",
    "                 xytext=(0, 5),textcoords='offset points')\n",
    "    \n",
    "ax.set_xlabel('salary')\n",
    "ax.set_ylabel('count') \n",
    "\n",
    "# setting label sizes after creation\n",
    "ax.xaxis.label.set_size(20)\n",
    "ax.yaxis.label.set_size(20)\n",
    "ax.xaxis.set_tick_params(labelsize=15)\n",
    "ax.yaxis.set_tick_params(labelsize=15)"
   ]
  },
  {
   "cell_type": "markdown",
   "id": "2fab50a0",
   "metadata": {},
   "source": [
    "## plt.pie - df.pie"
   ]
  },
  {
   "cell_type": "code",
   "execution_count": null,
   "id": "b4e123d9",
   "metadata": {},
   "outputs": [],
   "source": [
    "df_salary_count_per = df.salary.value_counts()/len(df.salary)\n",
    "df_salary_count_per"
   ]
  },
  {
   "cell_type": "code",
   "execution_count": null,
   "id": "41e08ebf",
   "metadata": {},
   "outputs": [],
   "source": [
    "plt.figure(figsize=(10,8))\n",
    "\n",
    "plt.pie(\n",
    "        x=df_salary_count_per.values, \n",
    "        labels=df_salary_count_per.index, \n",
    "        explode=[0, 0.1],\n",
    "        colors=[\"LightSkyBlue\",  \"gold\"], \n",
    "        autopct=\"%.1f%%\",\n",
    "        shadow=True,\n",
    "        textprops={'fontsize':16, 'color':'k'})\n",
    "\n",
    "plt.title(\"Percentage of Income-Levels\", fontsize=18);"
   ]
  },
  {
   "cell_type": "code",
   "execution_count": null,
   "id": "dc1878d1",
   "metadata": {},
   "outputs": [],
   "source": [
    "g = df_salary_count_per.plot.pie(\n",
    "                explode=[0, 0.1],\n",
    "                colors=[\"LightSkyBlue\",  \"gold\"], \n",
    "                autopct=\"%.1f%%\",\n",
    "                shadow=True,\n",
    "                title=\"Percentage of Income-Levels\",\n",
    "                textprops={'fontsize':16, 'color':'k'},\n",
    "                figsize=(10,8))\n",
    "\n",
    "g.title.set_fontsize(18)"
   ]
  },
  {
   "cell_type": "markdown",
   "id": "6a0e240f",
   "metadata": {},
   "source": [
    "# Numeric Features Analysis"
   ]
  },
  {
   "cell_type": "code",
   "execution_count": null,
   "id": "30153d44",
   "metadata": {},
   "outputs": [],
   "source": [
    "df.head()"
   ]
  },
  {
   "cell_type": "code",
   "execution_count": null,
   "id": "b8b30ac7",
   "metadata": {},
   "outputs": [],
   "source": [
    "df.describe().columns"
   ]
  },
  {
   "cell_type": "code",
   "execution_count": null,
   "id": "af75f3ff",
   "metadata": {},
   "outputs": [],
   "source": [
    "df['age'].describe()"
   ]
  },
  {
   "cell_type": "code",
   "execution_count": null,
   "id": "873e2c80",
   "metadata": {},
   "outputs": [],
   "source": [
    "df.groupby('salary').age.describe()"
   ]
  },
  {
   "cell_type": "markdown",
   "id": "a4097d0b",
   "metadata": {},
   "source": [
    "## boxplot"
   ]
  },
  {
   "cell_type": "code",
   "execution_count": null,
   "id": "3fa0fbc6",
   "metadata": {},
   "outputs": [],
   "source": [
    "fig, ax = plt.subplots(figsize=(12,8))\n",
    "\n",
    "sns.boxplot(x='age', data=df, ax=ax)\n",
    "    \n",
    "# setting label sizes after creation\n",
    "ax.xaxis.label.set_size(20)\n",
    "ax.yaxis.label.set_size(20)\n",
    "ax.xaxis.set_tick_params(labelsize=15)\n",
    "ax.yaxis.set_tick_params(labelsize=15)"
   ]
  },
  {
   "cell_type": "code",
   "execution_count": null,
   "id": "60fb59f3",
   "metadata": {},
   "outputs": [],
   "source": [
    "fig, ax = plt.subplots(figsize=(12,8))\n",
    "\n",
    "sns.boxplot(x='salary', y='age', data=df, ax=ax)\n",
    "    \n",
    "# # setting label sizes after creation\n",
    "ax.xaxis.label.set_size(20)\n",
    "ax.yaxis.label.set_size(20)\n",
    "ax.xaxis.set_tick_params(labelsize=15)\n",
    "ax.yaxis.set_tick_params(labelsize=15)"
   ]
  },
  {
   "cell_type": "markdown",
   "id": "fbf5f2a7",
   "metadata": {},
   "source": [
    "## histplot - displot"
   ]
  },
  {
   "cell_type": "code",
   "execution_count": null,
   "id": "4e3a703e",
   "metadata": {},
   "outputs": [],
   "source": [
    "fig, ax = plt.subplots(figsize=(12,8))\n",
    "\n",
    "sns.histplot(x='age', data=df, kde=True, bins=20, ax=ax)\n",
    "\n",
    "# setting label sizes after creation\n",
    "ax.xaxis.label.set_size(20)\n",
    "ax.yaxis.label.set_size(20)\n",
    "ax.xaxis.set_tick_params(labelsize=15)\n",
    "ax.yaxis.set_tick_params(labelsize=15)"
   ]
  },
  {
   "cell_type": "code",
   "execution_count": null,
   "id": "6e4b1cc7",
   "metadata": {},
   "outputs": [],
   "source": [
    "sns.displot(x='age', data=df, kind='hist', kde=True, bins=20, height=5, aspect=2)"
   ]
  },
  {
   "cell_type": "code",
   "execution_count": null,
   "id": "f11b5014",
   "metadata": {},
   "outputs": [],
   "source": [
    "fig, ax = plt.subplots(figsize=(12,8))\n",
    "\n",
    "sns.histplot(x='age', data=df, hue='salary', kde=True, bins=20, ax=ax)"
   ]
  },
  {
   "cell_type": "code",
   "execution_count": null,
   "id": "4b592faf",
   "metadata": {},
   "outputs": [],
   "source": [
    "sns.displot(x='age', data=df, hue='salary', kde=True, bins=20, kind='hist', height=5, aspect=2)"
   ]
  },
  {
   "cell_type": "markdown",
   "id": "384bdaf9",
   "metadata": {},
   "source": [
    "## kdeplot - displot"
   ]
  },
  {
   "cell_type": "code",
   "execution_count": null,
   "id": "fabc6b32",
   "metadata": {},
   "outputs": [],
   "source": [
    "fig, ax = plt.subplots(figsize=(12,8))\n",
    "\n",
    "sns.kdeplot(x='age', data=df, hue='salary', shade=True, ax=ax)  # or fill=True\n",
    "\n",
    "# setting label sizes after creation\n",
    "ax.xaxis.label.set_size(20)\n",
    "ax.yaxis.label.set_size(20)\n",
    "ax.xaxis.set_tick_params(labelsize=15)\n",
    "ax.yaxis.set_tick_params(labelsize=15)"
   ]
  },
  {
   "cell_type": "code",
   "execution_count": null,
   "id": "fa6203b9",
   "metadata": {},
   "outputs": [],
   "source": [
    "sns.displot(x='age', data=df, hue='salary', fill=True, kind='kde', height=5, aspect=2)"
   ]
  },
  {
   "cell_type": "code",
   "execution_count": null,
   "id": "f551e986",
   "metadata": {},
   "outputs": [],
   "source": [
    "plt.figure(figsize=(12,8))\n",
    "\n",
    "g= sns.kdeplot(x='fnlwgt', data=df, hue='salary', shade=True)  # or fill=True\n",
    "    \n",
    "# setting label sizes after creation\n",
    "g.xaxis.label.set_size(20)\n",
    "g.yaxis.label.set_size(20)\n",
    "g.xaxis.set_tick_params(labelsize=15)\n",
    "g.yaxis.set_tick_params(labelsize=15)"
   ]
  },
  {
   "cell_type": "code",
   "execution_count": null,
   "id": "5e070ca1",
   "metadata": {},
   "outputs": [],
   "source": [
    "fig, ax = plt.subplots(figsize=(12,8))\n",
    "\n",
    "sns.kdeplot(x='age', data=df, clip=(5,80), ax=ax)\n",
    "\n",
    "ax.axvline(x=df.age.mean(), color='r', linestyle=':', lw=3)\n",
    "ax.axvline(x=np.median(df.age), color='b', linestyle=':', lw=3)\n",
    "\n",
    "# ax.set_xlim(0)\n",
    "# ax.set_ylim(0)"
   ]
  },
  {
   "cell_type": "markdown",
   "id": "ffe56518",
   "metadata": {},
   "source": [
    "## pairplot"
   ]
  },
  {
   "cell_type": "code",
   "execution_count": null,
   "id": "7fa94099",
   "metadata": {},
   "outputs": [],
   "source": [
    "sns.pairplot(df, hue='salary',corner=True, palette='viridis')"
   ]
  },
  {
   "cell_type": "markdown",
   "id": "e16491bb",
   "metadata": {},
   "source": [
    "# Categorical Features Analysis"
   ]
  },
  {
   "cell_type": "markdown",
   "id": "44be5010",
   "metadata": {},
   "source": [
    "## Detect the similarities relative Feature - comparing unique values"
   ]
  },
  {
   "cell_type": "code",
   "execution_count": null,
   "id": "d68f4cb7",
   "metadata": {},
   "outputs": [],
   "source": [
    "df.education.value_counts()"
   ]
  },
  {
   "cell_type": "code",
   "execution_count": null,
   "id": "b3d4c16e",
   "metadata": {},
   "outputs": [],
   "source": [
    "df.groupby('education').education_num.count()"
   ]
  },
  {
   "cell_type": "code",
   "execution_count": null,
   "id": "0665b2ee",
   "metadata": {},
   "outputs": [],
   "source": [
    "df.groupby('education').education_num.value_counts(dropna=False)"
   ]
  },
  {
   "cell_type": "markdown",
   "id": "e024b152",
   "metadata": {},
   "source": [
    "## countplot relative Feature"
   ]
  },
  {
   "cell_type": "code",
   "execution_count": null,
   "id": "916d89df",
   "metadata": {},
   "outputs": [],
   "source": [
    "fig, ax = plt.subplots(figsize=(12,8))\n",
    "\n",
    "sns.countplot(x='education', data=df, ax=ax)\n",
    "    \n",
    "# setting label sizes after creation\n",
    "ax.xaxis.label.set_size(20)\n",
    "ax.yaxis.label.set_size(20)\n",
    "ax.xaxis.set_tick_params(labelsize=15)\n",
    "ax.yaxis.set_tick_params(labelsize=15)\n",
    "\n",
    "plt.xticks(rotation=90);"
   ]
  },
  {
   "cell_type": "code",
   "execution_count": null,
   "id": "920b7d76",
   "metadata": {},
   "outputs": [],
   "source": [
    "fig, ax = plt.subplots(figsize=(12,8))\n",
    "\n",
    "sns.countplot(x='education_num', data=df, ax=ax)\n",
    "    \n",
    "# setting label sizes after creation\n",
    "ax.xaxis.label.set_size(20)\n",
    "ax.yaxis.label.set_size(20)\n",
    "ax.xaxis.set_tick_params(labelsize=15)\n",
    "ax.yaxis.set_tick_params(labelsize=15)"
   ]
  },
  {
   "cell_type": "markdown",
   "id": "7c65fff6",
   "metadata": {},
   "source": [
    "## countplot - before new Feature,  after by target Feature this step can change (examine next with 3 steps) "
   ]
  },
  {
   "cell_type": "code",
   "execution_count": null,
   "id": "061d9ce9",
   "metadata": {},
   "outputs": [],
   "source": [
    "df.workclass.replace(to_replace=r'?', value='Unkown',inplace=True)"
   ]
  },
  {
   "cell_type": "code",
   "execution_count": null,
   "id": "d1a1ec81",
   "metadata": {},
   "outputs": [],
   "source": [
    "df.groupby(\"education\").salary.value_counts()"
   ]
  },
  {
   "cell_type": "code",
   "execution_count": null,
   "id": "a85140ec",
   "metadata": {},
   "outputs": [],
   "source": [
    "df.groupby(\"occupation\").salary.value_counts(normalize=True)"
   ]
  },
  {
   "cell_type": "code",
   "execution_count": null,
   "id": "b15f4a17",
   "metadata": {},
   "outputs": [],
   "source": [
    "fig, ax = plt.subplots(figsize=(12,8))\n",
    "\n",
    "sns.countplot(x='education', hue='salary', data=df, ax=ax)\n",
    "    \n",
    "# setting label sizes after creation\n",
    "ax.xaxis.label.set_size(20)\n",
    "ax.yaxis.label.set_size(20)\n",
    "ax.xaxis.set_tick_params(labelsize=15)\n",
    "ax.yaxis.set_tick_params(labelsize=15)\n",
    "\n",
    "plt.xticks(rotation=90);"
   ]
  },
  {
   "cell_type": "code",
   "execution_count": null,
   "id": "cedabd79",
   "metadata": {},
   "outputs": [],
   "source": [
    "df.groupby(\"education_num\").salary.value_counts()"
   ]
  },
  {
   "cell_type": "code",
   "execution_count": null,
   "id": "3ce709e7",
   "metadata": {},
   "outputs": [],
   "source": [
    "fig, ax = plt.subplots(figsize=(12,8))\n",
    "\n",
    "sns.countplot(x='education_num', hue='salary', data=df, ax=ax)\n",
    "    \n",
    "# setting label sizes after creation\n",
    "ax.xaxis.label.set_size(20)\n",
    "ax.yaxis.label.set_size(20)\n",
    "ax.xaxis.set_tick_params(labelsize=15)\n",
    "ax.yaxis.set_tick_params(labelsize=15)"
   ]
  },
  {
   "cell_type": "markdown",
   "id": "ea184be9",
   "metadata": {},
   "source": [
    "## boxplot - Visualize Numeric feature by Target Future"
   ]
  },
  {
   "cell_type": "code",
   "execution_count": null,
   "id": "082a0835",
   "metadata": {},
   "outputs": [],
   "source": [
    "fig, ax = plt.subplots(figsize=(12,8))\n",
    "\n",
    "sns.boxplot(x='salary', y='education_num', data=df)\n",
    "    \n",
    "# setting label sizes after creation\n",
    "ax.xaxis.label.set_size(20)\n",
    "ax.yaxis.label.set_size(20)\n",
    "ax.xaxis.set_tick_params(labelsize=15)\n",
    "ax.yaxis.set_tick_params(labelsize=15)"
   ]
  },
  {
   "cell_type": "markdown",
   "id": "20ce00a9",
   "metadata": {},
   "source": [
    "## countplot - before  Decrease the number of categories current Feature"
   ]
  },
  {
   "cell_type": "code",
   "execution_count": null,
   "id": "9dc48264",
   "metadata": {},
   "outputs": [],
   "source": [
    "fig, ax = plt.subplots(figsize=(12,8))\n",
    "\n",
    "sns.countplot(x='education_summary', data=df, ax=ax)"
   ]
  },
  {
   "cell_type": "markdown",
   "id": "5ccc1acd",
   "metadata": {},
   "source": [
    "## countplot - before Check the count of person in each target Feature"
   ]
  },
  {
   "cell_type": "code",
   "execution_count": null,
   "id": "f0cacd6e",
   "metadata": {},
   "outputs": [],
   "source": [
    "df.groupby(\"education_summary\").salary.value_counts()"
   ]
  },
  {
   "cell_type": "code",
   "execution_count": null,
   "id": "853ebf0a",
   "metadata": {},
   "outputs": [],
   "source": [
    "fig, ax = plt.subplots(figsize=(12,8))\n",
    "\n",
    "sns.countplot(x='education_summary', data=df, hue='salary', ax=ax)"
   ]
  },
  {
   "cell_type": "markdown",
   "id": "e0f33141",
   "metadata": {},
   "source": [
    "## pie plot (plt & df) - before  Check the percentage distribution of person in each Target Feature"
   ]
  },
  {
   "cell_type": "code",
   "execution_count": null,
   "id": "3bfef97e",
   "metadata": {},
   "outputs": [],
   "source": [
    "df.groupby(\"education_summary\").salary.value_counts(normalize=True)"
   ]
  },
  {
   "cell_type": "code",
   "execution_count": null,
   "id": "482d7f3b",
   "metadata": {},
   "outputs": [],
   "source": [
    "df_edu_salary_count_per = df.groupby(\"education_summary\").salary.value_counts(normalize=True).to_frame().unstack(0)\n",
    "df_edu_salary_count_per\n",
    "\n",
    "df_edu_salary_count_per.plot.pie(\n",
    "                    subplots=True, layout=(1,3),\n",
    "                    legend=False,\n",
    "                    colors=[\"pink\",\"lightskyblue\"],\n",
    "                    autopct=\"%.2f%%\",\n",
    "                    shadow=True,\n",
    "                    # explode=[0, 0.1],\n",
    "                    title=[\"high_level_grade\",\"low_level_grade\",\"medium_level_grade\"],\n",
    "                    # labels=['high', 'low', 'medium'],\n",
    "                    ylabel= \"salary\",\n",
    "                    textprops={'fontsize':16, 'color':'k'},\n",
    "                    wedgeprops = {'linewidth':2, 'edgecolor':'white'},\n",
    "                    startangle=0,\n",
    "                    figsize=(14,8))\n",
    " \n",
    "plt.tight_layout()"
   ]
  },
  {
   "cell_type": "code",
   "execution_count": null,
   "id": "02b732ef",
   "metadata": {},
   "outputs": [],
   "source": [
    "fig, (ax1, ax2,ax3) = plt.subplots(1, 3,figsize=(20,10))\n",
    "\n",
    "ax1.pie(df_edu_salary_count_per.salary.high_level_grade.values, labels=df_edu_salary_count_per.index , autopct='%0.2f%%',normalize=True )\n",
    "ax1.set_title(\"high_level_grade \")\n",
    "ax1.set_ylabel(\"salary\")\n",
    "\n",
    "ax2.pie(df_edu_salary_count_per.salary.low_level_grade.values, labels=df_edu_salary_count_per.index ,autopct='%0.2f%%' ,normalize=True )\n",
    "ax2.set_title(\"low_level_grade \")\n",
    "ax2.set_ylabel(\"salary\")\n",
    "\n",
    "ax3.pie(df_edu_salary_count_per.salary.medium_level_grade.values, labels=df_edu_salary_count_per.index, autopct='%0.2f%%',normalize=True  )\n",
    "ax3.set_title(\"medium_level_grade \")\n",
    "ax3.set_ylabel(\"salary\")\n",
    "\n",
    "plt.show()"
   ]
  },
  {
   "cell_type": "markdown",
   "id": "d5bef900",
   "metadata": {},
   "source": [
    "## pie plot - Check the the percentage distribution of person in each these new Feature"
   ]
  },
  {
   "cell_type": "code",
   "execution_count": null,
   "id": "9bff6b6b",
   "metadata": {},
   "outputs": [],
   "source": [
    "df_race=df.groupby(\"race\").salary.value_counts(normalize=True).to_frame().unstack(0)\n",
    "df_race\n",
    "\n",
    "df_race.plot.pie(\n",
    "                subplots=True, layout=(2,3),\n",
    "                legend=False,\n",
    "                colors=[\"pink\",\"lightskyblue\"],\n",
    "                autopct=\"%.2f%%\",\n",
    "                shadow=True,\n",
    "                # explode=[0, 0.1],\n",
    "                title=[\"Amer-Indian-Eskimo\",\"Asian-Pac-Islander\",\"Black\",\"Other\",\"White\"],\n",
    "                # labels=['high', 'low', 'medium'],\n",
    "                ylabel= \"salary\",\n",
    "                textprops={'fontsize':16, 'color':'k'},\n",
    "                wedgeprops = {'linewidth':2, 'edgecolor':'white'},\n",
    "                startangle=0,\n",
    "                figsize=(14,8))\n",
    " \n",
    "plt.tight_layout()"
   ]
  },
  {
   "cell_type": "markdown",
   "id": "a803ab4f",
   "metadata": {},
   "source": [
    "## reset_index() - df1 two Features Persentage "
   ]
  },
  {
   "cell_type": "code",
   "execution_count": null,
   "id": "e32a0b9c",
   "metadata": {},
   "outputs": [],
   "source": [
    "df1 = df.groupby('salary').education_summary.value_counts(normalize=True).to_frame(\n",
    "                    name='percentage').reset_index().sort_values(by=['salary','education_summary'])\n",
    "df1"
   ]
  },
  {
   "cell_type": "markdown",
   "id": "e5fdb433",
   "metadata": {},
   "source": [
    "Check the percentage distribution of person in each \"salary\" levels by each workclass groups and visualize it with bar plot"
   ]
  },
  {
   "cell_type": "code",
   "execution_count": null,
   "id": "93900785",
   "metadata": {},
   "outputs": [],
   "source": [
    "df3 = df.groupby('workclass').salary.value_counts(normalize=True).to_frame(\n",
    "                    name='percentage').reset_index().sort_values(by=['workclass', 'salary'])\n",
    "df3\n",
    "\n",
    "\n",
    "fig, ax=plt.subplots(figsize=(12,6))\n",
    "\n",
    "sns.barplot(x=\"workclass\", y=\"percentage\", hue=\"salary\", data=df3, ax=ax)\n",
    "\n",
    "plt.xticks(rotation=90)\n",
    "\n",
    "for i in ax.containers :\n",
    "    ax.bar_label(i,fmt='%.2f', fontsize=10)"
   ]
  },
  {
   "cell_type": "markdown",
   "id": "813867f6",
   "metadata": {},
   "source": [
    "## countplot - before Check the count of person in each these new Feature"
   ]
  },
  {
   "cell_type": "code",
   "execution_count": null,
   "id": "ee5b889f",
   "metadata": {},
   "outputs": [],
   "source": [
    "df.groupby('salary').education_summary.value_counts()"
   ]
  },
  {
   "cell_type": "code",
   "execution_count": null,
   "id": "75d3944e",
   "metadata": {},
   "outputs": [],
   "source": [
    "df.groupby('salary').education_summary.value_counts().to_frame().unstack(0)"
   ]
  },
  {
   "cell_type": "code",
   "execution_count": null,
   "id": "ff473a08",
   "metadata": {},
   "outputs": [],
   "source": [
    "fig, ax = plt.subplots(figsize=(12,8))\n",
    "\n",
    "sns.countplot(x='salary', data=df, hue='education_summary', ax=ax)\n",
    "    \n",
    "# setting label sizes after creation\n",
    "ax.xaxis.label.set_size(20)\n",
    "ax.yaxis.label.set_size(20)\n",
    "ax.xaxis.set_tick_params(labelsize=15)\n",
    "ax.yaxis.set_tick_params(labelsize=15)"
   ]
  },
  {
   "cell_type": "markdown",
   "id": "b9b35516",
   "metadata": {},
   "source": [
    "# Check by Target Feature the count of person in each these new Feature"
   ]
  },
  {
   "cell_type": "code",
   "execution_count": null,
   "id": "c72918eb",
   "metadata": {},
   "outputs": [],
   "source": [
    "df.groupby(\"salary\").marital_status_summary.value_counts()"
   ]
  },
  {
   "cell_type": "code",
   "execution_count": null,
   "id": "095c5c6a",
   "metadata": {},
   "outputs": [],
   "source": [
    "fig, ax = plt.subplots(figsize=(10,8))\n",
    "\n",
    "sns.countplot(x='salary', data=df, hue='marital_status_summary', ax=ax)\n",
    "\n",
    "# setting label sizes after creation\n",
    "ax.xaxis.label.set_size(20)\n",
    "ax.yaxis.label.set_size(20)\n",
    "ax.xaxis.set_tick_params(labelsize=15)\n",
    "ax.yaxis.set_tick_params(labelsize=15)"
   ]
  },
  {
   "cell_type": "markdown",
   "id": "291c54aa",
   "metadata": {},
   "source": [
    "# Other Specific Analysis Questions"
   ]
  },
  {
   "cell_type": "code",
   "execution_count": null,
   "id": "7f908e94",
   "metadata": {},
   "outputs": [],
   "source": [
    "fig, ax = plt.subplots(figsize=(10,8))\n",
    "\n",
    "ax = df_age_mean.plot.bar(ax=ax)\n",
    "\n",
    "ax.bar_label(ax.containers[0],fmt=\"%.2f\");"
   ]
  },
  {
   "cell_type": "code",
   "execution_count": null,
   "id": "cf723d49",
   "metadata": {},
   "outputs": [],
   "source": [
    "df_high_work = df.loc[ (df[\"salary\"] == \">50K\") & (df[\"native_country\"]==\"United-States\")\n",
    "                     ][\"workclass\"].value_counts(normalize=True)*100\n",
    "df_high_work"
   ]
  },
  {
   "cell_type": "code",
   "execution_count": null,
   "id": "a40adcdd",
   "metadata": {},
   "outputs": [],
   "source": [
    "fig, ax=plt.subplots(figsize=(12,6))\n",
    "\n",
    "sns.barplot(x=\"salary\", y=\"age\", hue=\"gender\", data=df8, ax=ax)\n",
    "\n",
    "plt.xticks(rotation=0)\n",
    "\n",
    "for i in ax.containers :\n",
    "    ax.bar_label(i,fmt='%.2f', fontsize=10)\n",
    "    \n",
    "# setting label sizes after creation\n",
    "ax.xaxis.label.set_size(20)\n",
    "ax.yaxis.label.set_size(20)\n",
    "ax.xaxis.set_tick_params(labelsize=15)\n",
    "ax.yaxis.set_tick_params(labelsize=15)"
   ]
  },
  {
   "cell_type": "code",
   "execution_count": null,
   "id": "5e0e33e3",
   "metadata": {},
   "outputs": [],
   "source": [
    "fig, ax=plt.subplots(figsize=(12,6))\n",
    "\n",
    "sns.barplot(x=df_high_occ_per.index, y=df_high_occ_per.values, ax=ax)\n",
    "\n",
    "plt.xticks(rotation=90)\n",
    "\n",
    "for i in ax.containers :\n",
    "    ax.bar_label(i,fmt='%.2f', fontsize=15)\n",
    "    \n",
    "# setting label sizes after creation\n",
    "ax.xaxis.label.set_size(20)\n",
    "ax.yaxis.label.set_size(20)\n",
    "ax.xaxis.set_tick_params(labelsize=15)\n",
    "ax.yaxis.set_tick_params(labelsize=15)"
   ]
  },
  {
   "cell_type": "markdown",
   "id": "56694469",
   "metadata": {},
   "source": [
    "## Check the statistical values for all numeric features"
   ]
  },
  {
   "cell_type": "code",
   "execution_count": null,
   "id": "6b7ba2c6",
   "metadata": {},
   "outputs": [],
   "source": [
    "fig, ax = plt.subplots(1,2,figsize=(12,6))\n",
    "\n",
    "sns.boxplot(data=df[\"age\"], ax=ax[0])\n",
    "sns.histplot(data=df[\"age\"], ax=ax[1]) \n",
    "\n",
    "plt.tight_layout()"
   ]
  },
  {
   "cell_type": "markdown",
   "id": "cadad72a",
   "metadata": {},
   "source": [
    "# Boxplot and Histplot for all numeric features"
   ]
  },
  {
   "cell_type": "code",
   "execution_count": null,
   "id": "717fb0a6",
   "metadata": {},
   "outputs": [],
   "source": [
    "sns.boxplot(data=df, orient='v');"
   ]
  },
  {
   "cell_type": "code",
   "execution_count": null,
   "id": "2e43c546",
   "metadata": {},
   "outputs": [],
   "source": [
    "sns.boxplot(data=df, orient='v',color='white',medianprops={'color':'darkorange'});"
   ]
  },
  {
   "cell_type": "code",
   "execution_count": null,
   "id": "6ad2277b",
   "metadata": {},
   "outputs": [],
   "source": [
    "df.plot.box(subplots=True, layout=(2,3), vert=True)"
   ]
  },
  {
   "cell_type": "code",
   "execution_count": null,
   "id": "f1bf7f81",
   "metadata": {},
   "outputs": [],
   "source": [
    "index = 0\n",
    "plt.figure(figsize=(20, 10))\n",
    "for feature in df.select_dtypes('number').columns:\n",
    "    index += 1\n",
    "    plt.subplot(2,3,index)\n",
    "    sns.boxplot(x=feature, \n",
    "                data=df, \n",
    "                whis=1.5,\n",
    "                showmeans=True,\n",
    "                meanprops={\"marker\":\"o\",\n",
    "                           \"markerfacecolor\":\"white\", \n",
    "                           \"markeredgecolor\":\"black\",\n",
    "                           \"markersize\":\"10\"})"
   ]
  },
  {
   "cell_type": "code",
   "execution_count": null,
   "id": "fd6424cd",
   "metadata": {},
   "outputs": [],
   "source": [
    "df_num = df.select_dtypes(include=np.number)\n",
    "\n",
    "fig, ax = plt.subplots(nrows=2, ncols=3,figsize=(20,10))\n",
    "\n",
    "x = 0\n",
    "for i in range(2):\n",
    "    for j in range(3):   \n",
    "        if x<5:\n",
    "            g = sns.boxplot(data=df_num.iloc[:,x], ax=ax[i][j],orient=\"h\")\n",
    "            g.set(xlabel = x)\n",
    "            g.set_yticklabels(\"\")\n",
    "            x+=1"
   ]
  },
  {
   "cell_type": "code",
   "execution_count": null,
   "id": "6defc679",
   "metadata": {},
   "outputs": [],
   "source": [
    "df_num = df.select_dtypes(include=np.number)\n",
    "fig, ax = plt.subplots(nrows=2, ncols=3,figsize=(20,10))\n",
    "i = j = 0\n",
    "for z in df_num.columns:\n",
    "    g = sns.boxplot(data=df_num[z], ax=ax[i][j],orient=\"h\")\n",
    "    g.set(xlabel = z)\n",
    "    g.set_yticklabels(\"\")\n",
    "    j += 1\n",
    "    if j>2:\n",
    "        i += 1; j = 0"
   ]
  },
  {
   "cell_type": "code",
   "execution_count": null,
   "id": "96237661",
   "metadata": {},
   "outputs": [],
   "source": []
  },
  {
   "cell_type": "code",
   "execution_count": null,
   "id": "c2060498",
   "metadata": {},
   "outputs": [],
   "source": [
    "index = 0\n",
    "plt.figure(figsize=(20, 40))\n",
    "for feature in df.select_dtypes('number').columns:\n",
    "    index += 1\n",
    "    plt.subplot(6,2, index)\n",
    "    sns.boxplot(x=feature, data=df, whis=1.5)\n",
    "    index += 1\n",
    "    plt.subplot(6,2,index)\n",
    "    sns.histplot(x=feature, data=df)\n",
    "    \n",
    "plt.tight_layout()"
   ]
  },
  {
   "cell_type": "code",
   "execution_count": null,
   "id": "39ac6f07",
   "metadata": {},
   "outputs": [],
   "source": [
    "df_num = df.select_dtypes(include=np.number)\n",
    "\n",
    "fig, ax = plt.subplots(nrows=5, ncols=2,figsize=(10,15))\n",
    "i = j = 0\n",
    "\n",
    "for z in df_num.columns:\n",
    "    g = sns.boxplot(data=df_num[z], ax=ax[i][j],orient=\"h\")\n",
    "    g.set(xlabel = z)\n",
    "    g.set_yticklabels(\"\")\n",
    "    j+=1\n",
    "    sns.histplot(data=df_num[z], ax=ax[i][j])\n",
    "    j=0 \n",
    "    i += 1\n",
    "    \n",
    "plt.tight_layout()"
   ]
  },
  {
   "cell_type": "code",
   "execution_count": null,
   "id": "5c519108",
   "metadata": {},
   "outputs": [],
   "source": [
    "fig, ax = plt.subplots(1,2,figsize=(12,6))\n",
    "\n",
    "sns.boxplot(data=df[\"age\"], ax=ax[0])\n",
    "sns.histplot(data=df[\"age\"], ax=ax[1]) \n",
    "\n",
    "plt.tight_layout()"
   ]
  },
  {
   "cell_type": "code",
   "execution_count": null,
   "id": "cde5244f",
   "metadata": {},
   "outputs": [],
   "source": [
    "plt.figure(figsize=(10, 6))\n",
    "\n",
    "plt.subplot(1, 2, 1)\n",
    "sns.boxplot(data=df.age,\n",
    "            showmeans=True,\n",
    "            meanprops={\"marker\":\"o\",\n",
    "                       \"markerfacecolor\":\"white\", \n",
    "                       \"markeredgecolor\":\"black\",\n",
    "                       \"markersize\":\"10\"})\n",
    "\n",
    "plt.subplot(1, 2, 2)\n",
    "sns.histplot(data=df.age);"
   ]
  },
  {
   "cell_type": "code",
   "execution_count": null,
   "id": "1c397c61",
   "metadata": {},
   "outputs": [],
   "source": [
    "fig, ax = plt.subplots(1,2,figsize=(12,6))\n",
    "\n",
    "sns.boxplot(data=df[\"hours_per_week\"], ax=ax[0])\n",
    "sns.histplot(data=df[\"hours_per_week\"], ax=ax[1], bins=10) \n",
    "\n",
    "plt.tight_layout()"
   ]
  },
  {
   "cell_type": "code",
   "execution_count": null,
   "id": "b1de8a77",
   "metadata": {},
   "outputs": [],
   "source": [
    "plt.figure(figsize=(14,20))\n",
    "\n",
    "sns.heatmap(pd.get_dummies(df, drop_first=True).corr(), annot=True, cmap='YlGnBu', annot_kws={'fontsize':8})"
   ]
  },
  {
   "cell_type": "code",
   "execution_count": null,
   "id": "96bd7e2f",
   "metadata": {},
   "outputs": [],
   "source": [
    "plt.figure(figsize=(3,12))\n",
    "\n",
    "sns.heatmap(df_sal_corr, annot=True, cmap='YlGnBu')"
   ]
  },
  {
   "cell_type": "code",
   "execution_count": null,
   "id": "77827992",
   "metadata": {},
   "outputs": [],
   "source": [
    "plt.figure(figsize=(5,10))\n",
    "\n",
    "sns.barplot(y=df_sal_corr.index, x=df_sal_corr.salary, color='royalblue')"
   ]
  },
  {
   "cell_type": "code",
   "execution_count": null,
   "id": "e992646d",
   "metadata": {},
   "outputs": [],
   "source": [
    "df_sal_corr[::-1].plot.barh(figsize=(5,13), legend=False)"
   ]
  }
 ],
 "metadata": {
  "kernelspec": {
   "display_name": "Python 3 (ipykernel)",
   "language": "python",
   "name": "python3"
  },
  "language_info": {
   "codemirror_mode": {
    "name": "ipython",
    "version": 3
   },
   "file_extension": ".py",
   "mimetype": "text/x-python",
   "name": "python",
   "nbconvert_exporter": "python",
   "pygments_lexer": "ipython3",
   "version": "3.9.12"
  },
  "nbTranslate": {
   "displayLangs": [
    "*"
   ],
   "hotkey": "alt-t",
   "langInMainMenu": true,
   "sourceLang": "en",
   "targetLang": "fr",
   "useGoogleTranslate": true
  },
  "toc": {
   "base_numbering": 1,
   "nav_menu": {
    "height": "144px",
    "width": "210px"
   },
   "number_sections": true,
   "sideBar": true,
   "skip_h1_title": false,
   "title_cell": "Table of Contents",
   "title_sidebar": "Contents",
   "toc_cell": false,
   "toc_position": {
    "height": "calc(100% - 180px)",
    "left": "10px",
    "top": "150px",
    "width": "294px"
   },
   "toc_section_display": true,
   "toc_window_display": false
  }
 },
 "nbformat": 4,
 "nbformat_minor": 5
}
